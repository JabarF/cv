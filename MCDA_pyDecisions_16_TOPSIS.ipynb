{
  "nbformat": 4,
  "nbformat_minor": 0,
  "metadata": {
    "colab": {
      "name": "MCDA-pyDecisions-16-TOPSIS.ipynb",
      "provenance": [],
      "include_colab_link": true
    },
    "kernelspec": {
      "name": "python3",
      "display_name": "Python 3"
    }
  },
  "cells": [
    {
      "cell_type": "markdown",
      "metadata": {
        "id": "view-in-github",
        "colab_type": "text"
      },
      "source": [
        "<a href=\"https://colab.research.google.com/github/jabarinF/cv/blob/main/MCDA_pyDecisions_16_TOPSIS.ipynb\" target=\"_parent\"><img src=\"https://colab.research.google.com/assets/colab-badge.svg\" alt=\"Open In Colab\"/></a>"
      ]
    },
    {
      "cell_type": "code",
      "metadata": {
        "id": "VppxvOnixee4"
      },
      "source": [
        "# Created by: Prof. Valdecy Pereira, D.Sc.\n",
        "# UFF - Universidade Federal Fluminense (Brazil)\n",
        "# email:  valdecy.pereira@gmail.com\n",
        "# Lesson: pyDecisions - TOPSIS\n",
        " \n",
        "# GitHub Repository: <https://github.com/Valdecy>"
      ],
      "execution_count": 1,
      "outputs": []
    },
    {
      "cell_type": "code",
      "metadata": {
        "colab": {
          "base_uri": "https://localhost:8080/"
        },
        "id": "qXNuLV741qAH",
        "outputId": "ff1f9a48-4944-4c1f-8a0e-7081aa4fc45f"
      },
      "source": [
        "# Build Dir\n",
        "import os\n",
        "os.chdir('/content')\n",
        "CODE_DIR = 'code'\n",
        "\n",
        "# Clone Github Repository\n",
        "!git clone https://github.com/Valdecy/pyDecisions.git $CODE_DIR\n",
        "os.chdir(f'./{CODE_DIR}')"
      ],
      "execution_count": 2,
      "outputs": [
        {
          "output_type": "stream",
          "name": "stdout",
          "text": [
            "Cloning into 'code'...\n",
            "remote: Enumerating objects: 498, done.\u001b[K\n",
            "remote: Counting objects: 100% (329/329), done.\u001b[K\n",
            "remote: Compressing objects: 100% (308/308), done.\u001b[K\n",
            "remote: Total 498 (delta 148), reused 0 (delta 0), pack-reused 169\u001b[K\n",
            "Receiving objects: 100% (498/498), 176.86 KiB | 14.74 MiB/s, done.\n",
            "Resolving deltas: 100% (212/212), done.\n"
          ]
        }
      ]
    },
    {
      "cell_type": "code",
      "metadata": {
        "id": "zD36b1VW5VYL"
      },
      "source": [
        "# Required Libraries\n",
        "import numpy as np\n",
        "\n",
        "from py_decisions.topsis.topsis import topsis_method"
      ],
      "execution_count": 3,
      "outputs": []
    },
    {
      "cell_type": "code",
      "metadata": {
        "id": "1XBfgTZIDrhM"
      },
      "source": [
        "# TOPSIS\n",
        "\n",
        "# Weights\n",
        "weights = np.array([ [0.1, 0.4, 0.3, 0.2] ])\n",
        "\n",
        "# Load Criterion Type: 'max' or 'min'\n",
        "criterion_type = ['max', 'max', 'max', 'min']\n",
        "\n",
        "# Dataset\n",
        "dataset = np.array([\n",
        "                [7, 9, 9, 8],   #a1\n",
        "                [8, 7, 8, 7],   #a2\n",
        "                [9, 6, 8, 9],   #a3\n",
        "                [6, 7, 8, 6]    #a4\n",
        "                ])"
      ],
      "execution_count": null,
      "outputs": []
    },
    {
      "cell_type": "code",
      "metadata": {
        "colab": {
          "base_uri": "https://localhost:8080/",
          "height": 334
        },
        "id": "cyCyvCXTDt9Z",
        "outputId": "02c7b328-2a37-448d-eb56-c057aefc43fc"
      },
      "source": [
        "# Call TOPSIS\n",
        "relative_closeness = topsis_method(dataset, weights, criterion_type, graph = True)"
      ],
      "execution_count": null,
      "outputs": [
        {
          "output_type": "stream",
          "text": [
            "a1: 0.74\n",
            "a2: 0.4\n",
            "a3: 0.18\n",
            "a4: 0.44\n"
          ],
          "name": "stdout"
        },
        {
          "output_type": "display_data",
          "data": {
            "image/png": "[encoded data removed]",
            "text/plain": [
              "<Figure size 432x288 with 1 Axes>"
            ]
          },
          "metadata": {
            "tags": [],
            "needs_background": "light"
          }
        }
      ]
    },
    {
      "cell_type": "code",
      "metadata": {
        "colab": {
          "base_uri": "https://localhost:8080/"
        },
        "id": "LWhGTKY0D2bu",
        "outputId": "db663720-3d35-4d48-d6de-2fbb3249d8dc"
      },
      "source": [
        "# Rank\n",
        "for i in range(0, relative_closeness.shape[0]):\n",
        "  print('a'+str(i+1)+' = ', round(relative_closeness[i], 2))"
      ],
      "execution_count": null,
      "outputs": [
        {
          "output_type": "stream",
          "text": [
            "a1 =  0.74\n",
            "a2 =  0.4\n",
            "a3 =  0.18\n",
            "a4 =  0.44\n"
          ],
          "name": "stdout"
        }
      ]
    }
  ]
}